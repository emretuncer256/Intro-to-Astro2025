{
 "cells": [
  {
   "cell_type": "code",
   "execution_count": null,
   "id": "7a7c8c0c-ba22-4fcb-8062-0e8b7ef3339a",
   "metadata": {},
   "outputs": [],
   "source": [
    "mkdir ~/Intro2Astro"
   ]
  },
  {
   "cell_type": "code",
   "execution_count": null,
   "id": "6d3a1945-e5fc-4345-a5e9-52eda9cb3c90",
   "metadata": {},
   "outputs": [],
   "source": [
    "cd Intro2Astro/"
   ]
  },
  {
   "cell_type": "code",
   "execution_count": null,
   "id": "0d61b366-469b-4142-93d5-c6403cfb2eaf",
   "metadata": {},
   "outputs": [],
   "source": [
    "git status   # check status"
   ]
  },
  {
   "cell_type": "code",
   "execution_count": null,
   "id": "244095f6-8933-4da4-a156-a61b0da23efc",
   "metadata": {},
   "outputs": [],
   "source": [
    "git add .   # add changes"
   ]
  },
  {
   "cell_type": "code",
   "execution_count": null,
   "id": "6a045545-3e2a-48ad-81d0-e3394edd47b2",
   "metadata": {},
   "outputs": [],
   "source": [
    "git commit -m \"assignments\""
   ]
  },
  {
   "cell_type": "code",
   "execution_count": null,
   "id": "b28c5bad-b4d5-4e5a-a3ef-aa3d74eda5a7",
   "metadata": {},
   "outputs": [],
   "source": [
    "git push origin main  # push"
   ]
  },
  {
   "cell_type": "code",
   "execution_count": null,
   "id": "1f4ed3ea-2509-458b-add7-c205debbe797",
   "metadata": {},
   "outputs": [],
   "source": [
    "https://github.com/emretuncer256/Intro-to-Astro2025"
   ]
  }
 ],
 "metadata": {
  "kernelspec": {
   "display_name": "Python 3 (ipykernel)",
   "language": "python",
   "name": "python3"
  },
  "language_info": {
   "codemirror_mode": {
    "name": "ipython",
    "version": 3
   },
   "file_extension": ".py",
   "mimetype": "text/x-python",
   "name": "python",
   "nbconvert_exporter": "python",
   "pygments_lexer": "ipython3",
   "version": "3.12.7"
  }
 },
 "nbformat": 4,
 "nbformat_minor": 5
}
